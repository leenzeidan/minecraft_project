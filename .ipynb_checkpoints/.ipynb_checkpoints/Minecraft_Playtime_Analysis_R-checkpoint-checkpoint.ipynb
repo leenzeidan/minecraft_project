{
 "cells": [
  {
   "cell_type": "markdown",
   "id": "d7e810fa",
   "metadata": {},
   "source": [
    "# Minecraft Playtime Analysis\n",
    "\n",
    "This project explores the relationship between demographic variables (age and gender) and the total number of play hours in Minecraft. The goal is to predict which demographic groups contribute the highest playtime, focusing on younger males as a hypothesized high-playtime group.\n"
   ]
  },
  {
   "cell_type": "code",
   "execution_count": null,
   "id": "6bfcdeaa",
   "metadata": {},
   "outputs": [],
   "source": [
    "\n",
    "# Load necessary libraries\n",
    "library(tidyverse)\n",
    "library(tidymodels)\n",
    "\n",
    "# Load data\n",
    "players <- read_csv(\"https://raw.githubusercontent.com/nelka-kim/plaicraft_project/refs/heads/main/players.csv\")\n",
    "sessions <- read_csv(\"https://raw.githubusercontent.com/nelka-kim/plaicraft_project/refs/heads/main/sessions.csv\")\n",
    "\n",
    "# Display the structure of the datasets\n",
    "glimpse(players)\n",
    "glimpse(sessions)\n"
   ]
  },
  {
   "cell_type": "markdown",
   "id": "8f434ba8",
   "metadata": {},
   "source": [
    "### Data Overview\n",
    "We load and inspect the two datasets: `players.csv` and `sessions.csv`, which contain player details and session time logs, respectively. The primary variables of interest are `age`, `experience`, and `played_hours`.\n"
   ]
  },
  {
   "cell_type": "code",
   "execution_count": null,
   "id": "fc6e1587",
   "metadata": {},
   "outputs": [],
   "source": [
    "\n",
    "# Summarize and prepare data\n",
    "players_summarized <- players %>%\n",
    "  group_by(hashedEmail) %>%\n",
    "  summarize(total_played_hours = sum(played_hours, na.rm = TRUE))\n",
    "\n",
    "# Merge and select relevant columns\n",
    "players_final <- players %>%\n",
    "  left_join(players_summarized, by = \"hashedEmail\") %>%\n",
    "  select(hashedEmail, total_played_hours, age, experience)\n",
    "\n",
    "# Display the first few rows of the prepared data\n",
    "head(players_final)\n"
   ]
  },
  {
   "cell_type": "markdown",
   "id": "f5ea33c3",
   "metadata": {},
   "source": [
    "### Visualizing Relationships\n",
    "\n",
    "We will sample 100 players and explore the relationship between their `age` and `total_played_hours`.\n",
    "\n",
    "#### Scatter Plot: Age vs Total Played Hours\n",
    "The scatter plot helps us understand the relationship between age and playtime.\n"
   ]
  },
  {
   "cell_type": "code",
   "execution_count": null,
   "id": "7cfeba79",
   "metadata": {},
   "outputs": [],
   "source": [
    "\n",
    "# Sample 100 players\n",
    "set.seed(123)\n",
    "players_100 <- players_final %>% sample_n(100)\n",
    "\n",
    "# Scatter plot for Age vs Total Played Hours\n",
    "library(ggplot2)\n",
    "ggplot(players_100, aes(x = age, y = total_played_hours)) +\n",
    "  geom_point() +\n",
    "  labs(\n",
    "    title = \"Scatter Plot: Age vs Total Played Hours\",\n",
    "    x = \"Age\",\n",
    "    y = \"Total Played Hours\"\n",
    "  )\n"
   ]
  },
  {
   "cell_type": "markdown",
   "id": "5a9d12f9",
   "metadata": {},
   "source": [
    "#### Age Distribution - Histogram\n",
    "Let's visualize the distribution of player ages to understand the population density across different age groups.\n"
   ]
  },
  {
   "cell_type": "code",
   "execution_count": null,
   "id": "d4f0892d",
   "metadata": {},
   "outputs": [],
   "source": [
    "\n",
    "# Age Distribution\n",
    "ggplot(players_100, aes(x = age)) +\n",
    "  geom_histogram(binwidth = 2) +\n",
    "  labs(\n",
    "    title = \"Age Distribution of Sampled Players\",\n",
    "    x = \"Age\",\n",
    "    y = \"Frequency\"\n",
    "  )\n"
   ]
  },
  {
   "cell_type": "markdown",
   "id": "90ae550b",
   "metadata": {},
   "source": [
    "### Model Training and Evaluation\n",
    "\n",
    "We will perform a K-Nearest Neighbors (KNN) regression to predict total play hours based on age. We will split the data into training and testing sets, and use 4-fold cross-validation for model evaluation.\n",
    "\n",
    "#### KNN Model\n",
    "We start by tuning the number of neighbors (`k`) to identify the optimal value.\n"
   ]
  },
  {
   "cell_type": "code",
   "execution_count": null,
   "id": "f8d44e54",
   "metadata": {},
   "outputs": [],
   "source": [
    "\n",
    "# Train-test split\n",
    "set.seed(123)\n",
    "players_split <- initial_split(players_final, prop = 0.75, strata = total_played_hours)\n",
    "players_training <- training(players_split)\n",
    "players_testing <- testing(players_split)\n",
    "\n",
    "# Specify KNN model\n",
    "players_spec <- nearest_neighbor(weight_func = \"rectangular\", neighbors = tune()) %>%\n",
    "  set_engine(\"kknn\") %>%\n",
    "  set_mode(\"regression\")\n",
    "\n",
    "# Recipe for preprocessing\n",
    "players_recipe <- recipe(total_played_hours ~ age, data = players_training) %>%\n",
    "  step_scale(all_predictors()) %>%\n",
    "  step_center(all_predictors())\n"
   ]
  },
  {
   "cell_type": "markdown",
   "id": "0911f663",
   "metadata": {},
   "source": [
    "#### Optimal k Selection\n",
    "\n",
    "We will use cross-validation to tune `k` and select the value that minimizes the root mean squared error (RMSE).\n"
   ]
  },
  {
   "cell_type": "code",
   "execution_count": null,
   "id": "cd2564aa",
   "metadata": {},
   "outputs": [],
   "source": [
    "\n",
    "# Cross-validation\n",
    "set.seed(123)\n",
    "players_vfold <- vfold_cv(players_training, v = 4, strata = total_played_hours)\n",
    "\n",
    "# Workflow\n",
    "players_workflow <- workflow() %>%\n",
    "  add_recipe(players_recipe) %>%\n",
    "  add_model(players_spec)\n",
    "\n",
    "# Grid search for tuning\n",
    "gridvals <- tibble(neighbors = seq(from = 1, to = 100, by = 7))\n",
    "players_results <- players_workflow %>%\n",
    "  tune_grid(resamples = players_vfold, grid = gridvals) %>%\n",
    "  collect_metrics() %>%\n",
    "  filter(.metric == \"rmse\")\n",
    "\n",
    "# Plot RMSE vs. Number of Neighbors\n",
    "ggplot(players_results, aes(x = neighbors, y = mean)) +\n",
    "  geom_point() +\n",
    "  geom_line() +\n",
    "  labs(\n",
    "    title = \"KNN Model RMSE vs. Number of Neighbors\",\n",
    "    x = \"Number of Neighbors\",\n",
    "    y = \"Root Mean Squared Error\"\n",
    "  )\n"
   ]
  },
  {
   "cell_type": "markdown",
   "id": "432f311f",
   "metadata": {},
   "source": [
    "#### Final Model Evaluation\n",
    "Based on the cross-validation results, the optimal number of neighbors `k=15` is chosen for the final model. We will then evaluate the model on the test data and plot the predictions.\n"
   ]
  },
  {
   "cell_type": "code",
   "execution_count": null,
   "id": "b7d03d59",
   "metadata": {},
   "outputs": [],
   "source": [
    "\n",
    "# Fit final model with optimal k\n",
    "k_min <- players_results %>%\n",
    "  filter(mean == min(mean)) %>%\n",
    "  pull(neighbors)\n",
    "\n",
    "best_spec <- nearest_neighbor(weight_func = \"rectangular\", neighbors = k_min) %>%\n",
    "  set_engine(\"kknn\") %>%\n",
    "  set_mode(\"regression\")\n",
    "\n",
    "best_fit <- workflow() %>%\n",
    "  add_recipe(players_recipe) %>%\n",
    "  add_model(best_spec) %>%\n",
    "  fit(data = players_training)\n",
    "\n",
    "# Evaluate on test data\n",
    "players_predictions <- best_fit %>%\n",
    "  predict(players_testing) %>%\n",
    "  bind_cols(players_testing)\n",
    "\n",
    "metrics(players_predictions, truth = total_played_hours, estimate = .pred)\n"
   ]
  },
  {
   "cell_type": "markdown",
   "id": "94cddf7f",
   "metadata": {},
   "source": [
    "#### Final Predictions - Age vs. Predicted Play Hours\n",
    "The final plot shows the relationship between age and predicted play hours using the optimal model.\n"
   ]
  },
  {
   "cell_type": "code",
   "execution_count": null,
   "id": "b6564199",
   "metadata": {},
   "outputs": [],
   "source": [
    "\n",
    "# Plot Final Predictions\n",
    "ggplot(players_predictions, aes(x = age, y = total_played_hours)) +\n",
    "  geom_point(alpha = 0.5) +\n",
    "  geom_line(aes(y = .pred), color = \"blue\") +\n",
    "  labs(\n",
    "    title = paste(\"Age vs Predicted Play Hours (k =\", k_min, \")\"),\n",
    "    x = \"Age\",\n",
    "    y = \"Played Hours\"\n",
    "  )\n"
   ]
  }
 ],
 "metadata": {
  "kernelspec": {
   "display_name": "R",
   "language": "R",
   "name": "ir"
  }
 },
 "nbformat": 4,
 "nbformat_minor": 5
}
